{
 "cells": [
  {
   "cell_type": "code",
   "execution_count": 2,
   "id": "192d5385-9c38-4ebc-87fc-60c49aa0ef37",
   "metadata": {},
   "outputs": [],
   "source": [
    "import os\n",
    "import pandas as pd\n",
    "import numpy as np\n",
    "from PIL import Image"
   ]
  },
  {
   "cell_type": "code",
   "execution_count": 3,
   "id": "e7436c78-2f6f-442f-8381-7437aa51653b",
   "metadata": {},
   "outputs": [],
   "source": [
    "def process_text(text):\n",
    "    return \" \".join(word for word in text.replace(\"#\", \"\").split(\" \") \n",
    "                    if len(word) > 0 and not (len(word) >= 4 and 'http' in word) and word[0] != '@')"
   ]
  },
  {
   "cell_type": "code",
   "execution_count": 4,
   "id": "6bb53e56-8ee4-4b21-8cb1-0979c045a665",
   "metadata": {},
   "outputs": [],
   "source": [
    "data_dir = \"./data/data\"\n",
    "def process_train_row(row):\n",
    "    guid = int(row['guid'])\n",
    "    tag = row['tag']\n",
    "    img_path = os.path.join(data_dir, f\"{guid}.jpg\")\n",
    "    txt_path = os.path.join(data_dir, f\"{guid}.txt\")\n",
    "    # print(img_path)\n",
    "    img = Image.open(img_path).resize((224, 224), Image.Resampling.LANCZOS)\n",
    "    img = np.asarray(img, dtype='float32')\n",
    "\n",
    "    with open(txt_path, encoding='gb18030') as f:\n",
    "        text = f.read()\n",
    "        \n",
    "    return {'guid': guid, 'text': process_text(text), 'tag': tag_to_num[tag]}"
   ]
  },
  {
   "cell_type": "code",
   "execution_count": 5,
   "id": "f8424487-74f5-4c95-bd3d-e4ef0b5c9c10",
   "metadata": {},
   "outputs": [],
   "source": [
    "def process_test_row(row):\n",
    "    guid = int(row['guid']) # 防止路径中出现小数点\n",
    "    img_path = os.path.join(data_dir, f\"{guid}.jpg\")\n",
    "    txt_path = os.path.join(data_dir, f\"{guid}.txt\")\n",
    "    # print(img_path)\n",
    "    img = Image.open(img_path).resize((224, 224), Image.Resampling.LANCZOS)\n",
    "    img = np.asarray(img, dtype='float32')\n",
    "\n",
    "    with open(txt_path, encoding='gb18030') as f: # 指定编码方式为gb18030，不然会报错\n",
    "        text = f.read()\n",
    "\n",
    "    return {'guid': guid, 'text': process_text(text)}"
   ]
  },
  {
   "cell_type": "code",
   "execution_count": 6,
   "id": "ab6a8d65-3dbf-4a90-ba36-a73b6c39806a",
   "metadata": {},
   "outputs": [],
   "source": [
    "tag_to_num = {\n",
    "    'positive' : 2,\n",
    "    'neutral' : 1,\n",
    "    'negative' : 0,\n",
    "}"
   ]
  },
  {
   "cell_type": "code",
   "execution_count": 7,
   "id": "b33ebefd-1d6b-43e0-a2e8-730193a1c155",
   "metadata": {},
   "outputs": [],
   "source": [
    "train_dataframe = pd.read_csv(\"./data/train.txt\")\n",
    "test_dataframe = pd.read_csv(\"./data/test_without_label.txt\")"
   ]
  },
  {
   "cell_type": "code",
   "execution_count": 8,
   "id": "0591dbf2-0a4c-49b0-8409-07f95e29c829",
   "metadata": {},
   "outputs": [],
   "source": [
    "train_data_list = train_dataframe.apply(process_train_row, axis=1).tolist()\n",
    "test_data_list = test_dataframe.apply(process_test_row, axis=1).tolist()\n",
    "\n",
    "df1 = pd.DataFrame(train_data_list)\n",
    "df2 = pd.DataFrame(test_data_list)\n",
    "\n",
    "df1.to_csv(\"./data/text_tag_train.csv\" , index=False)\n",
    "df2.to_csv(\"./data/text_test.csv\" , index=False)"
   ]
  }
 ],
 "metadata": {
  "kernelspec": {
   "display_name": "Python 3 (ipykernel)",
   "language": "python",
   "name": "python3"
  },
  "language_info": {
   "codemirror_mode": {
    "name": "ipython",
    "version": 3
   },
   "file_extension": ".py",
   "mimetype": "text/x-python",
   "name": "python",
   "nbconvert_exporter": "python",
   "pygments_lexer": "ipython3",
   "version": "3.9.13"
  }
 },
 "nbformat": 4,
 "nbformat_minor": 5
}
